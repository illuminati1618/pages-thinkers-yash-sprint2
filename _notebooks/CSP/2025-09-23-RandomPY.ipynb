{
 "cells": [
  {
   "cell_type": "markdown",
   "id": "cb3b4231",
   "metadata": {},
   "source": [
    "---\n",
    "layout: post\n",
    "title: Sprint 2 - Random Numbers! (Python)\n",
    "description:  Random Numbers in Python\n",
    "toc: true\n",
    "breadcrumbs: True\n",
    "permalink: /Random_numbersPY\n",
    "---"
   ]
  },
  {
   "cell_type": "markdown",
   "id": "93583304",
   "metadata": {},
   "source": [
    "# Random Numbers\n",
    "\n",
    "\n",
    "## The Random Module\n",
    "\n",
    "To make anything random in python, you need a module called ```Random```. This module was to be imported to your script beforehand like this:"
   ]
  },
  {
   "cell_type": "code",
   "execution_count": 1,
   "id": "fd064aad",
   "metadata": {},
   "outputs": [],
   "source": [
    "import random"
   ]
  },
  {
   "cell_type": "markdown",
   "id": "aef52b84",
   "metadata": {},
   "source": [
    "Think of this as a spellbook! Every python spell must derive from the spellbook. In this case, that spellbook we need is ```random```.\n",
    "\n",
    "\n",
    "\n",
    "\n",
    "\n",
    "## A Basic Number Generator\n",
    "\n",
    "Lets analyze the following generator:"
   ]
  },
  {
   "cell_type": "code",
   "execution_count": 9,
   "id": "b924aacc",
   "metadata": {},
   "outputs": [
    {
     "name": "stdout",
     "output_type": "stream",
     "text": [
      "Random Integer: 2\n"
     ]
    }
   ],
   "source": [
    "import random\n",
    "# Generate a random integer between 1 and 10 (inclusive)\n",
    "random_integer = random.randint(1, 10)\n",
    "print(f\"Random Integer: {random_integer}\")"
   ]
  },
  {
   "cell_type": "markdown",
   "id": "55ec718a",
   "metadata": {},
   "source": [
    "```import random```: Allows us to access the random module\n",
    "\n",
    "```random_integer```: This is out variable to hold the number we generate\n",
    "\n",
    "```random.randit(1,10)```: This basically says \"from the random module, use the randint function and use parameters 1 and 10.\" Randint is the function used to determine a random integer in a range. In this case that eange is 1 and 10.\n",
    "\n",
    "```print(f\"Random Integer: {random_integer}\")```: Prints the number\n",
    "\n",
    "\n",
    "\n",
    "## Another type of generator\n",
    "\n",
    "Lets look at one more generator:\n"
   ]
  },
  {
   "cell_type": "code",
   "execution_count": 14,
   "id": "95fc0b98",
   "metadata": {},
   "outputs": [
    {
     "name": "stdout",
     "output_type": "stream",
     "text": [
      "Random Float: 0.1742626429831371\n"
     ]
    }
   ],
   "source": [
    "import random\n",
    "# Generate a random float between 0 and 1 (inclusive)\n",
    "random_float = random.uniform(0, 1)\n",
    "print(f\"Random Float: {random_float}\")"
   ]
  },
  {
   "cell_type": "markdown",
   "id": "d35735ec",
   "metadata": {},
   "source": [
    "Before we jump in, lets clarify what the different types of random are. Lets compare Randint, Uniform, and normalvariate to find out:\n",
    "\n",
    "\n",
    "**Randint**:\n",
    "- What it does: Picks a whole number between two values, with equal chance for each.\n",
    "- Distribution type: **Discrete** uniform distribution.\n",
    "\n",
    "**Uniform**:\n",
    "- What it does: Picks a decimal (float) between two numbers, again with equal chance for every value in that range.\n",
    "- Distribution type: **Continuous** uniform distribution.\n",
    "\n",
    "**Normalvariate**:\n",
    "- What it does: Picks a number where values near the average (mean) are more likely, and extreme values are rare.\n",
    "- Distribution type: **Normal** (bell curve).\n",
    "\n",
    "\n",
    "\n",
    "This code right here uses **Uniform**. It needs to pick a **float** or **decimal** and the **Uniform** function works best when dealing with decimals between 2 numbers with equal chance to roll it.\n",
    "\n",
    "\n",
    "\n",
    "## Hacks!\n",
    "\n",
    "Here are a few challenges you can try making with the concept of RNG in Python:\n",
    "\n",
    "1. Dice or Lottery Numbers\n",
    "2. Random Decimal Precision\n",
    "3. Random Shuffle with Numbers\n"
   ]
  },
  {
   "cell_type": "markdown",
   "id": "749f380a",
   "metadata": {},
   "source": [
    "## Extra Interactive Demos (Python)\n",
    "\n",
    "Below are small, self-contained Python snippets you can run inside the notebook. They use the standard `random` module and a tiny seeded helper so results can be reproduced for tests."
   ]
  },
  {
   "cell_type": "code",
   "execution_count": null,
   "id": "22ef88c1",
   "metadata": {},
   "outputs": [],
   "source": [
    "# Seeded RNG helper using random.Random (reproducible)\n",
    "from random import Random, choices, randint, shuffle, uniform, gauss\n",
    "\n",
    "def make_rng(seed):\n",
    "    return Random(seed)\n",
    "\n",
    "rng = make_rng(42)\n",
    "print('rng sample floats:', [rng.random() for _ in range(3)])\n"
   ]
  },
  {
   "cell_type": "code",
   "execution_count": null,
   "id": "ba1c8a5f",
   "metadata": {},
   "outputs": [],
   "source": [
    "# Two-dice simulation and heatmap (counts for face1 vs face2)\n",
    "import numpy as np\n",
    "import matplotlib.pyplot as plt\n",
    "from random import Random\n",
    "\n",
    "def two_dice_heatmap(trials=10000, seed=1):\n",
    "    rng = Random(seed)\n",
    "    grid = np.zeros((6,6), dtype=int)\n",
    "    for _ in range(trials):\n",
    "        a = rng.randint(1,6) - 1\n",
    "        b = rng.randint(1,6) - 1\n",
    "        grid[a,b] += 1\n",
    "    return grid\n",
    "\n",
    "g = two_dice_heatmap(5000, seed=7)\n",
    "print(g)\n",
    "# If matplotlib is available, show a simple heatmap (optional)\n",
    "try:\n",
    "    plt.imshow(g, cmap='viridis')\n",
    "    plt.colorbar()\n",
    "    plt.title('Two-dice frequency heatmap (face1 x face2)')\n",
    "    plt.xlabel('Die 2 face (1-6)')\n",
    "    plt.ylabel('Die 1 face (1-6)')\n",
    "    plt.show()\n",
    "except Exception as e:\n",
    "    print('matplotlib display skipped:', e)\n"
   ]
  },
  {
   "cell_type": "code",
   "execution_count": null,
   "id": "bdc71b91",
   "metadata": {},
   "outputs": [],
   "source": [
    "# Loot box simulator (with adjustable probabilities)\n",
    "from random import Random\n",
    "\n",
    "def simulate_loot(n=1000, seed=0, pool=None):\n",
    "    if pool is None:\n",
    "        pool = [('Common',0.7), ('Rare',0.25), ('Epic',0.045), ('Legendary',0.005)]\n",
    "    rng = Random(seed)\n",
    "    names = [p[0] for p in pool]\n",
    "    weights = [p[1] for p in pool]\n",
    "    counts = {name:0 for name in names}\n",
    "    for _ in range(n):\n",
    "        pick = rng.random()\n",
    "        s = 0\n",
    "        for name,w in zip(names, weights):\n",
    "            s += w\n",
    "            if pick < s: counts[name] += 1; break\n",
    "    return counts\n",
    "\n",
    "print(simulate_loot(1000, seed=42))\n"
   ]
  },
  {
   "cell_type": "code",
   "execution_count": null,
   "id": "468e8cf4",
   "metadata": {},
   "outputs": [],
   "source": [
    "# Seeded shuffle and reproducible playlist example\n",
    "from random import Random\n",
    "\n",
    "def seeded_shuffle(arr, seed):\n",
    "    rng = Random(seed)\n",
    "    a = list(arr)\n",
    "    rng.shuffle(a)\n",
    "    return a\n",
    "\n",
    "songs = ['Song A','Song B','Song C','Song D','Song E']\n",
    "print('seed=1:', seeded_shuffle(songs,1))\n",
    "print('seed=1 again:', seeded_shuffle(songs,1))\n",
    "print('seed=2:', seeded_shuffle(songs,2))\n"
   ]
  },
  {
   "cell_type": "markdown",
   "id": "e5926f88",
   "metadata": {},
   "source": [
    "##  Homeworks & Creative Tasks (Python)\n",
    "\n",
    "Task 1: Simple Loot Box\n",
    "\n",
    "Create a basic program that opens 10 loot boxes\n",
    "Use a slider to change the chance of getting rare items (10% to 90%)\n",
    "Count how many common vs rare items you get\n",
    "Display the results in a simple list\n",
    "\n",
    "Task 2: Dice Rolling Counter\n",
    "\n",
    "Roll a 6-sided die 20 times\n",
    "Keep track of how many times each number (1-6) appears\n",
    "Show the counts in a simple chart or list\n",
    "Students can see if numbers appear evenly or not\n",
    "\n",
    "Task 3: Random Story Generator\n",
    "\n",
    "Pick random words from simple lists (character, place, action)\n",
    "Example: \"The [knight/wizard/dragon] went to the [castle/forest/cave] and [fought/slept/ate]\"\n",
    "Generate 5 random stories with one button click\n",
    "Show all stories in a list\n",
    "\n",
    "Task 4: Basic Fairness Test\n",
    "\n",
    "Roll a die 100 times\n",
    "Count how many times each number appears\n",
    "Check if each number appears around 16-17 times (100 ÷ 6 ≈ 16.67)\n",
    "Display results: \"Fair!\" if numbers are close to 16-17, \"Maybe unfair?\" if very different\n",
    "\n",
    "All tasks should use simple JavaScript with Math.random() and basic HTML buttons and displays. No complex statistics or advanced libraries are needed."
   ]
  }
 ],
 "metadata": {
  "kernelspec": {
   "display_name": "venv",
   "language": "python",
   "name": "python3"
  },
  "language_info": {
   "codemirror_mode": {
    "name": "ipython",
    "version": 3
   },
   "file_extension": ".py",
   "mimetype": "text/x-python",
   "name": "python",
   "nbconvert_exporter": "python",
   "pygments_lexer": "ipython3",
   "version": "3.12.3"
  }
 },
 "nbformat": 4,
 "nbformat_minor": 5
}
