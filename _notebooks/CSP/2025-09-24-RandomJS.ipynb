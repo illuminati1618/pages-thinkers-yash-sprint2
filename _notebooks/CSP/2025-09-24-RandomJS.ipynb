{
 "cells": [
  {
   "cell_type": "markdown",
   "id": "044ac8d7",
   "metadata": {},
   "source": [
    "---\n",
    "layout: post\n",
    "title: Sprint 2 - Random Numbers (Javascript)\n",
    "description:  Random Numbers in Javascript\n",
    "toc: true\n",
    "breadcrumbs: True\n",
    "permalink: /Random_numbersJS\n",
    "---"
   ]
  },
  {
   "cell_type": "markdown",
   "id": "64340e6a",
   "metadata": {},
   "source": [
    "## Fun with Random Numbers in JavaScript\n",
    "\n",
    "Welcome! In this short interactive lesson we'll explore how to generate random numbers in JavaScript, why they're useful, and some simple techniques to make predictable (seeded) randomness for learning and games.\n",
    "\n",
    "We'll use plain JavaScript (no external libraries) and small code snippets you can run in the browser console or a Node REPL.\n"
   ]
  },
  {
   "cell_type": "markdown",
   "id": "cecf4047",
   "metadata": {},
   "source": [
    "### Learning objectives\n",
    "\n",
    "- Understand how `Math.random()` works and its range.\n",
    "- Learn small helper functions: random integer, random float in range, and choice from an array.\n",
    "- See a reproducible (seeded) pseudo-random generator for testing and games.\n",
    "- Try a short simulation: dice rolls and a randomized name picker."
   ]
  },
  {
   "cell_type": "code",
   "execution_count": null,
   "id": "fcc93412",
   "metadata": {
    "vscode": {
     "languageId": "javascript"
    }
   },
   "outputs": [],
   "source": [
    "// Basic Math.random() examples\n",
    "// 1) A random float in [0, 1)\n",
    "console.log('random float [0,1):', Math.random());\n",
    "\n",
    "// 2) Random float in [min, max)\n",
    "function randomFloat(min, max) {\n",
    "  return Math.random() * (max - min) + min;\n",
    "}\n",
    "console.log('random float [5,10):', randomFloat(5, 10));\n",
    "\n",
    "// 3) Random integer in [min, max] inclusive\n",
    "function randomInt(min, max) {\n",
    "  return Math.floor(Math.random() * (max - min + 1)) + min;\n",
    "}\n",
    "console.log('random int 1-6 (dice):', randomInt(1, 6));\n",
    "\n",
    "// 4) Random element from an array\n",
    "function choice(arr) {\n",
    "  if (!arr.length) return undefined;\n",
    "  return arr[Math.floor(Math.random() * arr.length)];\n",
    "}\n",
    "console.log('choice from names:', choice(['Ada', 'Grace', 'Linus', 'Alan']));"
   ]
  },
  {
   "cell_type": "markdown",
   "id": "d97fd859",
   "metadata": {},
   "source": [
    "### Seeded pseudo-random (LCG) — reproducible runs\n",
    "\n",
    "JavaScript's `Math.random()` can't be seeded directly, but we can create a simple linear congruential generator (LCG) for classroom use. It's predictable — which is great for tests and demos."
   ]
  },
  {
   "cell_type": "code",
   "execution_count": null,
   "id": "05516427",
   "metadata": {
    "vscode": {
     "languageId": "javascript"
    }
   },
   "outputs": [],
   "source": [
    "// Simple LCG implementation (not cryptographically secure)\n",
    "function makeLCG(seed) {\n",
    "  let state = seed >>> 0; // ensure 32-bit unsigned\n",
    "  const a = 1664525;\n",
    "  const c = 1013904223;\n",
    "  const m = 2 ** 32;\n",
    "  return function() {\n",
    "    state = (a * state + c) >>> 0;\n",
    "    return state / m; // float in [0,1)\n",
    "  };\n",
    "}\n",
    "\n",
    "const rngA = makeLCG(12345);\n",
    "const rngB = makeLCG(12345); // same seed -> same sequence\n",
    "console.log('lcg first:', rngA());\n",
    "console.log('lcg second (same seed):', rngB());\n",
    "\n",
    "// helper using LCG to get an int in [min,max]\n",
    "function seededInt(rng, min, max) {\n",
    "  return Math.floor(rng() * (max - min + 1)) + min;\n",
    "}\n",
    "console.log('seeded dice (1-6):', seededInt(rngA, 1, 6));"
   ]
  },
  {
   "cell_type": "code",
   "execution_count": null,
   "id": "dd317b41",
   "metadata": {
    "vscode": {
     "languageId": "javascript"
    }
   },
   "outputs": [],
   "source": [
    "// Simulation: roll a dice N times and show frequency distribution\n",
    "function rollDiceTrials(trials, rngFn) {\n",
    "  const counts = [0,0,0,0,0,0];\n",
    "  for (let i = 0; i < trials; i++) {\n",
    "    const roll = Math.floor(rngFn() * 6) + 1;\n",
    "    counts[roll - 1]++;\n",
    "  }\n",
    "  return counts.map((c, i) => ({face: i+1, count: c, pct: (c / trials * 100).toFixed(2) + '%'}));\n",
    "}\n",
    "\n",
    "console.log('Random dice (Math.random), 6000 trials:', rollDiceTrials(6000, Math.random));\n",
    "\n",
    "// Using seeded RNG to reproduce the same histogram\n",
    "const seeded = makeLCG(42);\n",
    "console.log('Seeded dice (seed=42), 6000 trials:', rollDiceTrials(6000, seeded));\n",
    "\n",
    "// Quick visual hint: show counts in simple text bar\n",
    "function printHistogram(counts) {\n",
    "  counts.forEach(row => {\n",
    "    console.log(row.face + ': ' + '#'.repeat(Math.max(1, Math.round(row.count / 100)) ) + ' ' + row.count + ' (' + row.pct + ')');\n",
    "  });\n",
    "}\n",
    "const counts = rollDiceTrials(6000, Math.random);\n",
    "printHistogram(counts);"
   ]
  },
  {
   "cell_type": "markdown",
   "id": "434246d4",
   "metadata": {},
   "source": [
    "### Try this (challenges)\n",
    "\n",
    "1. Modify the dice simulation to simulate two dice and compute the distribution of sums (2–12).\n",
    "\n",
    "2. Build a `shuffle(array, rng)` function (Fisher–Yates) and test it with `makeLCG` seeds to show reproducible shuffles.\n",
    "\n",
    "3. Create a small prize draw: given a list of names, pick 3 unique winners using the seeded RNG so results are reproducible for testing."
   ]
  },
  {
   "cell_type": "markdown",
   "id": "e512e596",
   "metadata": {},
   "source": [
    "## Homeworks & Hacks\n",
    "\n",
    "These exercises fun — try one or more as homework or a weekend hackathon. You can copy the code into an HTML file or run snippets in the browser console.\n",
    "\n",
    "1. Build a web dice roller with animated visuals: roll 2 dice and display images for each face; show running statistics for the last 100 rolls.\n",
    "\n",
    "2. Create a reproducible playlist shuffler: given an array of song titles, shuffle using `makeLCG(seed)` and allow the user to pick a seed so they can share the exact playlist order.\n",
    "\n",
    "3. Make a 'Loot Box' simulator: items have rarities, and the drop rates are defined; compute the expected number of boxes to get a legendary item and simulate the process many times to estimate the distribution.\n",
    "\n",
    "4. Implement and test a `weightedChoice(items, weights, rng)` function to select items based on weights (e.g., 70% common, 25% rare, 5% epic).\n",
    "\n",
    "5. Turn the prize draw into a small web app that animates names scrolling and stops at winners (use seeded RNG for reproducible demos)."
   ]
  },
  {
   "cell_type": "markdown",
   "id": "1c4a84dc",
   "metadata": {},
   "source": [
    "## Interactive demos (copy-paste into an HTML file or the browser console)\n",
    "\n",
    "Below are three small self-contained demos: a Dice Roller, a Name Picker, and a Shuffle Visualizer. Save each snippet as `demo.html` and open it in your browser to play and edit."
   ]
  },
  {
   "cell_type": "code",
   "execution_count": null,
   "id": "433e2343",
   "metadata": {
    "vscode": {
     "languageId": "html"
    }
   },
   "outputs": [],
   "source": [
    "<!-- Demo 1: Dice Roller (HTML + JS) -->\n",
    "<!doctype html>\n",
    "<html><head><meta charset=\"utf-8\"><title>Dice Roller Demo</title></head><body>\n",
    "<h2>Dice Roller</h2>\n",
    "<button id=\"roll\">Roll 2 Dice</button>\n",
    "<div id=\"out\"></div>\n",
    "<script>\n",
    "function randomInt(min,max){return Math.floor(Math.random()*(max-min+1))+min;}\n",
    "function roll(){\n",
    "  const d1=randomInt(1,6); const d2=randomInt(1,6);\n",
    "  const sum=d1+d2;\n",
    "  document.getElementById('out').innerHTML = `Dice: ${d1} + ${d2} = <strong>${sum}</strong>`;\n",
    "}\n",
    "document.getElementById('roll').addEventListener('click', roll);\n",
    "</script></body></html>"
   ]
  },
  {
   "cell_type": "code",
   "execution_count": null,
   "id": "9971b4a4",
   "metadata": {
    "vscode": {
     "languageId": "html"
    }
   },
   "outputs": [],
   "source": [
    "<!-- Demo 2: Name Picker (seeded) -->\n",
    "<!doctype html>\n",
    "<html><head><meta charset=\"utf-8\"><title>Name Picker</title></head><body>\n",
    "<h2>Seeded Name Picker</h2>\n",
    "Seed: <input id=\"seed\" value=\"42\"> <button id=\"pick\">Pick 1 Winner</button>\n",
    "<div id=\"winner\"></div>\n",
    "<script>\n",
    "function makeLCG(seed){let s=seed>>>0;const a=1664525,c=1013904223,m=2**32;return()=>{s=(a*s+c)>>>0;return s/m;};}\n",
    "function choiceSeeded(arr, rng){return arr[Math.floor(rng()*arr.length)];}\n",
    "const list = ['Ada','Grace','Linus','Alan','Margaret','Tim'];\n",
    "document.getElementById('pick').onclick = ()=>{\n",
    "  const seed = Number(document.getElementById('seed').value)||0;\n",
    "  const rng = makeLCG(seed);\n",
    "  const win = choiceSeeded(list, rng);\n",
    "  document.getElementById('winner').innerText = 'Winner: ' + win;\n",
    "};\n",
    "</script></body></html>"
   ]
  },
  {
   "cell_type": "code",
   "execution_count": null,
   "id": "87beba50",
   "metadata": {
    "vscode": {
     "languageId": "html"
    }
   },
   "outputs": [],
   "source": [
    "<!-- Demo 3: Shuffle Visualizer (Fisher–Yates) -->\n",
    "<!doctype html>\n",
    "<html><head><meta charset=\"utf-8\"><title>Shuffle Visualizer</title></head><body>\n",
    "<h2>Shuffle Visualizer</h2>\n",
    "Seed: <input id=\"s\" value=\"1\"> <button id=\"sh\">Shuffle</button>\n",
    "<pre id=\"arr\"></pre>\n",
    "<script>\n",
    "function makeLCG(seed){let s=seed>>>0;const a=1664525,c=1013904223;return()=>{s=(a*s+c)>>>0;return s/(2**32);};}\n",
    "function shuffle(array, rng){\n",
    "  const a = array.slice();\n",
    "  for(let i=a.length-1;i>0;i--){\n",
    "    const j=Math.floor(rng()*(i+1));\n",
    "    [a[i],a[j]]=[a[j],a[i]];\n",
    "  }\n",
    "  return a;\n",
    "}\n",
    "const sample = ['A','B','C','D','E','F','G'];\n",
    "document.getElementById('sh').onclick = ()=>{\n",
    "  const seed=Number(document.getElementById('s').value)||0; const rng=makeLCG(seed);\n",
    "  document.getElementById('arr').textContent = shuffle(sample, rng).join(', ');\n",
    "};\n",
    "</script></body></html>"
   ]
  },
  {
   "cell_type": "markdown",
   "id": "17edb1ad",
   "metadata": {},
   "source": [
    "### Optional Hacks (ONLY 1 is REQUIRED TO BE COMPLETED!)\n",
    "Hack 1: Random Color Generator\n",
    "\n",
    "Generate random RGB colors with one click\n",
    "Format: rgb(random, random, random) where each is 0-255\n",
    "Change the background color of a box to show the color\n",
    "Display the color code so users can copy it\n",
    "\n",
    "Hack 2: Random Password Maker\n",
    "\n",
    "Create passwords with random letters and numbers\n",
    "Let users choose password length (6-20 characters)\n",
    "Use arrays: ['a','b','c'...'z','0','1'...'9']\n",
    "One button generates a new password each time\n",
    "\n",
    "Hack 3: Coin Flip Streak Tracker\n",
    "\n",
    "Flip a coin (Heads or Tails) with random 50/50 chance\n",
    "Track the longest streak of same results in a row\n",
    "Example: \"Heads, Heads, Heads = 3 streak!\"\n",
    "Show current flip and best streak ever\n",
    "\n",
    "Hack 4: Random Compliment Generator\n",
    "\n",
    "Pick random compliments from a list of 10-15 nice phrases\n",
    "\"You're awesome!\", \"Great job today!\", \"You're very smart!\"\n",
    "Click button to get a new random compliment\n",
    "Simple mood booster app\n",
    "\n",
    "Hack 5: Number Guessing Game\n",
    "\n",
    "Computer picks random number 1-50\n",
    "User tries to guess it\n",
    "Show \"Too high!\" or \"Too low!\" hints\n",
    "Count how many guesses it takes to win\n",
    "\n",
    "Hack 6: Random Team Maker\n",
    "\n",
    "Enter 6-10 names in a text box\n",
    "Randomly split them into 2 equal teams\n",
    "Use array shuffling with random numbers\n",
    "Display Team A and Team B lists\n",
    "\n",
    "All use basic Math.random(), Math.floor(), arrays, and simple HTML buttons/displays!"
   ]
  }
 ],
 "metadata": {
  "language_info": {
   "name": "python"
  }
 },
 "nbformat": 4,
 "nbformat_minor": 5
}
