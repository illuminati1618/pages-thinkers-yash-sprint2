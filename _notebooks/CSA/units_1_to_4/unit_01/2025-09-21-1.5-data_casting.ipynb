{
  "cells": [
    {
      "cell_type": "markdown",
      "metadata": {},
      "source": "# AP CSA Unit 1.5 — Casting and Range of Variables (2025)\n\n**Scope**: Java casting between `int` and `double`, integer division, modulus, and range/overflow behavior of `int`.  \n**Goal**: Predict results, spot overflow, and place casts correctly to control evaluation.\n"
    },
    {
      "cell_type": "markdown",
      "metadata": {},
      "source": "## Learning goals\n- Use `(int)` and `(double)` correctly.  \n- Explain truncation vs rounding.  \n- Predict results of mixed `int`/`double` expressions.  \n- Identify overflow with `Integer.MAX_VALUE` / `Integer.MIN_VALUE`.  \n- Apply `%` and integer division rules.\n"
    },
    {
      "cell_type": "markdown",
      "metadata": {},
      "source": "## Quick reference\n\n**Casting**\n- Widening (automatic): `int → double` (no loss).  \n- Narrowing (explicit): `double → int` with truncation toward 0.\n\n**Integer division**\n- If both operands are `int`, result is `int` with truncation.  \n- `%` returns the remainder.\n\n**Ranges**\n- `int`: from `-2^31` to `2^31 - 1` ⇒ `-2147483648` to `2147483647`.  \n- `double`: ~15 digits of precision, IEEE 754.\n\n**Rounding to nearest `int` (per AP CSA CED)**\n- Non‑negative `x`: `(int)(x + 0.5)`  \n- Negative `x`: `(int)(x - 0.5)`\n"
    },
    {
      "cell_type": "markdown",
      "metadata": {},
      "source": "## Casting in Java (read-only examples)\n\n```java\npublic class CastDemo {\n    public static void main(String[] args) {\n        int a = 7, b = 2;\n        System.out.println(a / b);          // 3  (int division)\n        System.out.println((double)a / b);  // 3.5 (promoted to double before divide)\n\n        double d = 5.9;\n        int t = (int) d;                    // 5  (truncate toward 0)\n        System.out.println(t);\n\n        // Rounding to nearest int (per CED):\n        int rPos = (int)(d + 0.5);          // 6  (non-negative rounding)\n        double n = -5.9;\n        int rNeg = (int)(n - 0.5);          // -6 (negative rounding)\n        System.out.println(rPos + \" \" + rNeg);\n    }\n}\n```\n"
    },
    {
      "cell_type": "markdown",
      "metadata": {},
      "source": "## Integer division and `%`\n\n```java\nint x = 17, y = 5;\nSystem.out.println(x / y); // 3\nSystem.out.println(x % y); // 2\n```\n\nProperties: `x == (x / y) * y + (x % y)` when `y != 0`.\n"
    },
    {
      "cell_type": "markdown",
      "metadata": {},
      "source": "## Range and overflow in Java `int`\n\n```java\nint max = Integer.MAX_VALUE;  //  2147483647\nint min = Integer.MIN_VALUE;  // -2147483648\n\nSystem.out.println(max + 1);  // overflow → -2147483648\nSystem.out.println(min - 1);  // overflow →  2147483647\n```\nOverflow wraps around within the 32‑bit signed range.\n"
    },
    {
      "cell_type": "markdown",
      "metadata": {},
      "source": "### Python helper: simulate Java 32‑bit `int`\n\nThe following Python utilities mimic Java's 32‑bit signed `int` arithmetic so you can experiment inside this notebook.\n"
    },
    {
      "cell_type": "code",
      "execution_count": null,
      "metadata": {},
      "outputs": [],
      "source": "\n# Utilities to simulate Java 32-bit signed int in Python\nINT_MIN = -2**31\nINT_MAX =  2**31 - 1\nMASK32  =  0xFFFFFFFF\n\ndef to_int32(x: int) -> int:\n    x &= MASK32\n    # convert to signed\n    return x if x <= INT_MAX else x - (1 << 32)\n\ndef add_int32(a: int, b: int) -> int:\n    return to_int32(a + b)\n\ndef sub_int32(a: int, b: int) -> int:\n    return to_int32(a - b)\n\ndef mul_int32(a: int, b: int) -> int:\n    return to_int32(a * b)\n\ndef div_int32(a: int, b: int) -> int:\n    # Java int division truncates toward zero\n    if b == 0:\n        raise ZeroDivisionError(\"division by zero\")\n    q = int(a / b)  # Python truncates toward zero for int()\n    return to_int32(q)\n\ndef mod_int32(a: int, b: int) -> int:\n    # Java remainder has same sign as dividend (a)\n    if b == 0:\n        raise ZeroDivisionError(\"mod by zero\")\n    q = div_int32(a, b)\n    r = to_int32(a - q * b)\n    return r\n\n# Demo\nprint(\"INT_MIN, INT_MAX:\", INT_MIN, INT_MAX)\nprint(\"Overflow examples:\")\nprint(\"MAX+1 =\", add_int32(INT_MAX, 1))\nprint(\"MIN-1 =\", sub_int32(INT_MIN, 1))\nprint(\"(-7)/2  =\", div_int32(-7, 2), \"  (-7)%2 =\", mod_int32(-7, 2))\nprint(\"(7)/-2  =\", div_int32(7, -2), \"  (7)%-2 =\", mod_int32(7, -2))\n"
    },
    {
      "cell_type": "markdown",
      "metadata": {},
      "source": "## Truncation vs rounding (runnable demo)\n\nIn Java, `(int) 5.9` → `5` because casting truncates toward 0.  \nThe CED rounding technique: `(int)(x + 0.5)` for non‑negative, `(int)(x - 0.5)` for negative.\n"
    },
    {
      "cell_type": "code",
      "execution_count": null,
      "metadata": {},
      "outputs": [],
      "source": "\ndef java_truncate(x: float) -> int:\n    # Casting double->int truncates toward 0\n    return int(x)  # Python int() also truncates toward 0\n\ndef ced_round(x: float) -> int:\n    if x >= 0:\n        return int(x + 0.5)\n    else:\n        return int(x - 0.5)\n\ntests = [5.1, 5.5, 5.9, -5.1, -5.5, -5.9, 0.49, -0.49]\nfor v in tests:\n    print(f\"x={v:5}  truncate={java_truncate(v):3}  ced_round={ced_round(v):3}\")\n"
    },
    {
      "cell_type": "markdown",
      "metadata": {},
      "source": "## Promotion rules in mixed expressions\n\n- If either operand is `double`, the other is promoted to `double` before the operation.  \n- If both are `int`, integer arithmetic is used.\n\n```java\nint a = 3, b = 2;\ndouble x = a / b;          // 1.0   (int division then widened)\ndouble y = (double)a / b;  // 1.5   (promoted before divide)\n```\n"
    },
    {
      "cell_type": "markdown",
      "metadata": {},
      "source": "## Practice: predict the output (Java)\n\n**Q1**\n```java\nint a = 10, b = 4;\nSystem.out.println(a / b);\nSystem.out.println(a % b);\nSystem.out.println((double)(a / b));\nSystem.out.println((double)a / b);\n```\n\n**Q2**\n```java\ndouble d = -2.6;\nSystem.out.println((int)d);\nSystem.out.println((int)(d - 0.5));\nSystem.out.println((int)(-d + 0.5));\n```\n\n**Q3**\n```java\nint x = Integer.MAX_VALUE;\nint y = x + 2;\nSystem.out.println(x);\nSystem.out.println(y);\n```\nWrite your answers, then check against the key below.\n"
    },
    {
      "cell_type": "markdown",
      "metadata": {},
      "source": "### Optional: use Python helpers to reason about Q1\n\nThe following Python mimics the Java behavior for integer parts.\n"
    },
    {
      "cell_type": "code",
      "execution_count": null,
      "metadata": {},
      "outputs": [],
      "source": "\n# Q1 reasoning\na, b = 10, 4\nprint(\"a / b   =\", int(a / b))   # integer division result\nprint(\"a % b   =\", a - int(a / b) * b)\nprint(\"(double)(a / b) =\", float(int(a / b)))\nprint(\"(double)a / b   =\", a / b)  # Python uses float division here by default\n"
    },
    {
      "cell_type": "markdown",
      "metadata": {},
      "source": "## FRQ-style tasks\n\n**FRQ 1. Average with correct casting**  \nWrite a method `avgInt` that takes two `int` values and returns their average as a `double`, preserving the `.5` if present.\n\n```java\npublic static double avgInt(int a, int b) {\n    // your code\n}\n```\n\n**FRQ 2. Percentage**  \nGiven `int correct` and `int total`, compute the percentage as a `double` from 0.0 to 100.0 **without** losing fractional precision.\n\n```java\npublic static double percent(int correct, int total) {\n    // your code\n}\n```\n\n**FRQ 3. Safe remainder**  \nImplement `safeMod(int a, int b)` that returns `a % b`, but if `b == 0`, it should return `0` instead of throwing.\n\n```java\npublic static int safeMod(int a, int b) {\n    // your code\n}\n```\n"
    },
    {
      "cell_type": "markdown",
      "metadata": {},
      "source": "## Suggested solutions (Java)\n\n```java\n// FRQ 1\npublic static double avgInt(int a, int b) {\n    return ((double)a + b) / 2.0;\n}\n\n// FRQ 2\npublic static double percent(int correct, int total) {\n    if (total == 0) return 0.0;\n    return 100.0 * ((double) correct) / total;\n}\n\n// FRQ 3\npublic static int safeMod(int a, int b) {\n    if (b == 0) return 0;\n    return a % b;\n}\n```\n"
    },
    {
      "cell_type": "markdown",
      "metadata": {},
      "source": "## Answer key\n\n**Q1**\n```\n2\n2\n2.0\n2.5\n```\n\n**Q2**\n```\n-2\n-3\n3\n```\n\n**Q3**\n```\n2147483647\n-2147483647   // wraps: MAX_VALUE + 2\n```\n"
    },
    {
      "cell_type": "markdown",
      "metadata": {},
      "source": "## Compile and run Java locally\n\nSave a file `CastDemo.java`, then run:\n```bash\njavac CastDemo.java\njava CastDemo\n```\n"
    },
    {
      "cell_type": "markdown",
      "metadata": {},
      "source": "---\n**Note**: Python cells simulate Java `int` behavior for experimentation. Java `double` matches Python's `float` (IEEE 754 double).  \n"
    }
  ],
  "metadata": {
    "kernelspec": {
      "display_name": "Python 3",
      "language": "python",
      "name": "python3"
    },
    "language_info": {
      "name": "python",
      "pygments_lexer": "ipython3"
    }
  },
  "nbformat": 4,
  "nbformat_minor": 5
}