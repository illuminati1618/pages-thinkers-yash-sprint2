{
 "cells": [
  {
   "cell_type": "markdown",
   "id": "7c03b55e",
   "metadata": {},
   "source": [
    "---\n",
    "layout: post\n",
    "toc: true\n",
    "title: Objects Instances of Classes\n",
    "menu: nav/CSA_Nunits/csaunit1.html\n",
    "permalink: /csa/unit_01/1_12\n",
    "---"
   ]
  },
  {
   "cell_type": "markdown",
   "id": "09c1f970",
   "metadata": {},
   "source": [
    "## Refrence Types\n",
    "\n",
    "Reference types in Java include classes, arrays, and interfaces. Unlike primitive types, reference types store addresses (references) to objects rather than the objects themselves.\n",
    "\n",
    "### Classes\n",
    "- Create complex data structures by grouping variables and methods.\n",
    "\n",
    "Example:\n",
    "```java\n",
    "class Person {\n",
    "    String name;\n",
    "    int age;\n",
    "}\n",
    "Person person = new Person(); // `person` reference in stack, `Person` object in heap\n",
    "```\n",
    "### Arrays\n",
    "- Collections of variables of the same type.\n",
    "\n",
    "Example:\n",
    "```java\n",
    "int[] numbers = new int[5]; // `numbers` reference in stack, array in heap\n",
    "```\n",
    "\n",
    "### Popcorn Hack"
   ]
  },
  {
   "cell_type": "code",
   "execution_count": null,
   "id": "a85181b6",
   "metadata": {
    "vscode": {
     "languageId": "javascript"
    }
   },
   "outputs": [],
   "source": [
    "public class Main {\n",
    "    public static void main(String[] args) {\n",
    "        // Create a reference type variable of type String\n",
    "        ______ myString = \"Hello, World!\";\n",
    "        \n",
    "        // Create a reference type variable of type Array\n",
    "        ______ myArray = new int[] {1, 2, 3, 4, 5};\n",
    "\n",
    "        // Print the values\n",
    "        System.out.println(myString);\n",
    "        System.out.println(Arrays.toString(myArray));\n",
    "    }\n",
    "}\n",
    "\n",
    "Main.main(null);"
   ]
  }
 ],
 "metadata": {
  "language_info": {
   "name": "python"
  }
 },
 "nbformat": 4,
 "nbformat_minor": 5
}
