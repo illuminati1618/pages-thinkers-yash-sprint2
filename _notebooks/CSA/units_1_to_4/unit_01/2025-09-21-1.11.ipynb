{
 "cells": [
  {
   "cell_type": "markdown",
   "id": "a9b42124",
   "metadata": {},
   "source": [
    "---\n",
    "layout: post\n",
    "toc: true\n",
    "title: Math Class\n",
    "menu: nav/CSA_Nunits/csaunit1.html\n",
    "permalink: /csa/unit_01/1_11\n",
    "---"
   ]
  }
 ],
 "metadata": {
  "language_info": {
   "name": "python"
  }
 },
 "nbformat": 4,
 "nbformat_minor": 5
}
