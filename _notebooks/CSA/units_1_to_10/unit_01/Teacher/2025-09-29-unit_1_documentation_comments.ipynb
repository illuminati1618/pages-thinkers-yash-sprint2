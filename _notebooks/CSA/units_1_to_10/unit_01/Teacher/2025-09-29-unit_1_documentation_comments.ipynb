{
 "cells": [
  {
   "cell_type": "code",
   "execution_count": null,
   "id": "f718f5bb",
   "metadata": {
    "vscode": {
     "languageId": "plaintext"
    }
   },
   "outputs": [],
   "source": [
    "---\n",
    "layout: post\n",
    "toc: true\n",
    "title: Unit 1 - Documentation with Comments\n",
    "description: A Unit of documents that overviews comments and documentation for java\n",
    "categories: [AP CSA]\n",
    "courses: { csa: {week: 6} }\n",
    "type: college board\n",
    "menu: nav/CSA_Units/csa_unit1.html\n",
    "author: Eshika Pallapotu, Nithika Vivek, Saanvi Dogra\n",
    "permalink: /csa/unit1/documentation\n",
    "---"
   ]
  },
  {
   "cell_type": "code",
   "execution_count": null,
   "id": "6256c496",
   "metadata": {
    "vscode": {
     "languageId": "plaintext"
    }
   },
   "outputs": [],
   "source": []
  }
 ],
 "metadata": {
  "language_info": {
   "name": "python"
  }
 },
 "nbformat": 4,
 "nbformat_minor": 5
}
